{
 "cells": [
  {
   "cell_type": "code",
   "execution_count": 1,
   "id": "63dbfa16-ad49-47e0-8091-296ac699e9f3",
   "metadata": {},
   "outputs": [],
   "source": [
    "import re"
   ]
  },
  {
   "cell_type": "code",
   "execution_count": 88,
   "id": "fb096c14-2558-4d95-a49e-be278b8826f2",
   "metadata": {},
   "outputs": [],
   "source": [
    "s = '85.1 9x 100% $10 million dollars revenue a5lk9 (USA) for ($96) second nd thane'\n",
    "t = ['123', 'as', '12asdh12', '95%', '100x what', 'printthis', 'hey%']"
   ]
  },
  {
   "cell_type": "markdown",
   "id": "b51c971a-e799-49f2-9028-9f5dff7e258c",
   "metadata": {},
   "source": [
    "Remove all numbers:"
   ]
  },
  {
   "cell_type": "code",
   "execution_count": 77,
   "id": "fbed3eb4-c29e-45eb-8a98-6810fa406932",
   "metadata": {},
   "outputs": [
    {
     "data": {
      "text/plain": [
       "'85.1 9x 100% $10 million dollars revenue a5lk9  for  second nd thane'"
      ]
     },
     "execution_count": 77,
     "metadata": {},
     "output_type": "execute_result"
    }
   ],
   "source": [
    "# Remove all numbers\n",
    "re.sub('\\d+', '', s)\n",
    "re.sub('[0-9]', '', s)\n",
    "\n",
    "# Remove all dollar signs\n",
    "re.sub('\\$', '', s)\n",
    "\n",
    "# Remove just parantheses\n",
    "re.sub('[()]', '', s)\n",
    "\n",
    "# Remove any whitespace character\n",
    "re.sub('\\s','',s)\n",
    "\n",
    "# Remove paranthese and text between ()\n",
    "re.sub('\\([^)]*\\)', '', s)"
   ]
  },
  {
   "cell_type": "code",
   "execution_count": 95,
   "id": "3568f427-9a3f-4b91-a632-d6174638f10c",
   "metadata": {},
   "outputs": [
    {
     "data": {
      "text/plain": [
       "'85.1 9x 100% $10 million dollars revenue a5lk9 (USA) for ($96) second  thane'"
      ]
     },
     "execution_count": 95,
     "metadata": {},
     "output_type": "execute_result"
    }
   ],
   "source": [
    "# Word Boundaries - Remove 'nd' only NOT instances of 'nd' in larger words \n",
    "re.sub(r'\\bnd\\b', '', s)"
   ]
  },
  {
   "cell_type": "code",
   "execution_count": 89,
   "id": "a6244fdb-dd4f-4fc4-845f-ebb04ce4ed15",
   "metadata": {},
   "outputs": [
    {
     "data": {
      "text/plain": [
       "['as', 'printthis']"
      ]
     },
     "execution_count": 89,
     "metadata": {},
     "output_type": "execute_result"
    }
   ],
   "source": [
    "# filter a list of strings to only strings with non-numbers\n",
    "[item for item in t if item.isalpha()]"
   ]
  }
 ],
 "metadata": {
  "kernelspec": {
   "display_name": "Python 3 (ipykernel)",
   "language": "python",
   "name": "python3"
  },
  "language_info": {
   "codemirror_mode": {
    "name": "ipython",
    "version": 3
   },
   "file_extension": ".py",
   "mimetype": "text/x-python",
   "name": "python",
   "nbconvert_exporter": "python",
   "pygments_lexer": "ipython3",
   "version": "3.9.12"
  }
 },
 "nbformat": 4,
 "nbformat_minor": 5
}
